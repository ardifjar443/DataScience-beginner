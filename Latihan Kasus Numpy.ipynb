{
 "cells": [
  {
   "cell_type": "markdown",
   "id": "d4638a45",
   "metadata": {
    "id": "d4638a45"
   },
   "source": [
    "Soal 1\n",
    "--\n",
    "\n",
    "Diberikan 6 buah kaleng tempat menyimpan air yang memiliki jari-jari dan tinggi yang berbeda-beda. besaran nilai jari-jari dan tinggi kaleng adalah bilangan bulat berkisar **5** sampai dengan **40** cm. dengan menggunakan Python, tentukan :\n",
    "\n",
    "1. Volume air yang dapat disiman di setiap kaleng\n",
    "2. Total volume air yang tersimpan dalam semua kaleng\n",
    "3. Kaleng manakah yang mampu menampung volume air terbesar, dan tentukan volume airnya\n",
    "4. Kaleng manakah dengan volume air terkecil, dan tentukan volumenya\n",
    "5. Rata-rata volume yang dapat ditampung oleh setiap kaleng"
   ]
  },
  {
   "cell_type": "markdown",
   "id": "5105b129",
   "metadata": {
    "id": "5105b129"
   },
   "source": [
    "### Solusi"
   ]
  },
  {
   "cell_type": "code",
   "execution_count": 61,
   "id": "f32d3748",
   "metadata": {
    "id": "f32d3748"
   },
   "outputs": [],
   "source": [
    "import numpy as np\n",
    "from prettytable import PrettyTable"
   ]
  },
  {
   "cell_type": "code",
   "execution_count": 62,
   "id": "cf843cd5-db91-4c4d-972d-c446eebcf8c5",
   "metadata": {},
   "outputs": [],
   "source": [
    "data = np.zeros((6,2))\n",
    "PHI = 3.14\n"
   ]
  },
  {
   "cell_type": "code",
   "execution_count": 63,
   "id": "a49530cf-debe-4e04-826e-65e6b40fa8e5",
   "metadata": {},
   "outputs": [
    {
     "name": "stdout",
     "output_type": "stream",
     "text": [
      "masukan angka dari rentang 5 - 40\n",
      "masukan angka dari rentang 5 - 40\n"
     ]
    }
   ],
   "source": [
    "for i in range(len(data)):\n",
    "    data[i][0] = (input(f\"masukan jari-jari kaleng {i+1} :\"))\n",
    "    while not (5 <= data[i][0] <= 40):\n",
    "        print(\"masukan angka dari rentang 5 - 40\")\n",
    "        data[i][0] = (input(f\"masukan jari-jari kaleng {i+1} :\"))\n",
    "    data[i][1] = (input(f\"masukan tinggi kaleng {i+1} :\"))\n",
    "    while not (5 <= data[i][1] <= 40):\n",
    "        print(\"masukan angka dari rentang 5 - 40\")\n",
    "        data[i][1] = (input(f\"masukan tinggi kaleng {i+1} :\"))"
   ]
  },
  {
   "cell_type": "code",
   "execution_count": 64,
   "id": "2e65fe23-d270-4bb8-a568-345f50932d46",
   "metadata": {},
   "outputs": [
    {
     "name": "stdout",
     "output_type": "stream",
     "text": [
      "Volume untuk kaleng 1 : 38204 cm^3\n",
      "Volume untuk kaleng 2 : 16610 cm^3\n",
      "Volume untuk kaleng 3 : 17295 cm^3\n",
      "Volume untuk kaleng 4 : 66863 cm^3\n",
      "Volume untuk kaleng 5 : 14130 cm^3\n",
      "Volume untuk kaleng 6 : 31849 cm^3\n"
     ]
    }
   ],
   "source": [
    "totalVolume = np.array([PHI * i[0]* i[0] * i[1] for i in data])\n",
    "for i in range(len(totalVolume)):\n",
    "    print(f\"Volume untuk kaleng {i+1} : {int(totalVolume[i])} cm^3\")\n",
    "\n"
   ]
  },
  {
   "cell_type": "code",
   "execution_count": 65,
   "id": "65acc145",
   "metadata": {},
   "outputs": [
    {
     "name": "stdout",
     "output_type": "stream",
     "text": [
      "total volume semua kaleng : 184952 cm^3\n"
     ]
    }
   ],
   "source": [
    "print(f\"total volume semua kaleng : {int(np.sum(totalVolume))} cm^3\")"
   ]
  },
  {
   "cell_type": "code",
   "execution_count": 66,
   "id": "1391c0a3",
   "metadata": {},
   "outputs": [
    {
     "name": "stdout",
     "output_type": "stream",
     "text": [
      "volume tertinggi adalah kaleng 4 dengan volume: 66863 cm^3\n"
     ]
    }
   ],
   "source": [
    "volumeTertinggi = np.argmax(totalVolume)\n",
    "print(f\"volume tertinggi adalah kaleng {volumeTertinggi+1} dengan volume: {int(totalVolume[volumeTertinggi])} cm^3\")"
   ]
  },
  {
   "cell_type": "code",
   "execution_count": 67,
   "id": "33fedca7",
   "metadata": {},
   "outputs": [
    {
     "name": "stdout",
     "output_type": "stream",
     "text": [
      "volume terrendah adalah kaleng 5 dengan volume: 14130 cm^3\n"
     ]
    }
   ],
   "source": [
    "volumeTerrendah = np.argmin(totalVolume)\n",
    "print(f\"volume terrendah adalah kaleng {volumeTerrendah+1} dengan volume: {int(totalVolume[volumeTerrendah])} cm^3\")"
   ]
  },
  {
   "cell_type": "code",
   "execution_count": 68,
   "id": "b3babb22",
   "metadata": {},
   "outputs": [
    {
     "name": "stdout",
     "output_type": "stream",
     "text": [
      "rata rata volume semua kaleng adalah : 30825 cm^3\n"
     ]
    }
   ],
   "source": [
    "ratarataVolume = int(np.sum(totalVolume)) / len(data)\n",
    "print(f\"rata rata volume semua kaleng adalah : {int(ratarataVolume)} cm^3\")"
   ]
  },
  {
   "cell_type": "markdown",
   "id": "86c51bf7",
   "metadata": {
    "id": "86c51bf7"
   },
   "source": [
    "Soal 2\n",
    "--\n",
    "\n",
    "Diketahui ada 6 buah orang (P1,P2,...,P6) yang membutuhkan 5 buah bahan baku (B1,B2,...,B5) untuk membuat kue. kebutuhan bahan baku untuk masing-masing orang tersaji dalam tabel berikut :\n",
    "\n",
    "Kebutuhan|B1|B2|B3|B4|B5\n",
    "--- | --- | --- | --- | --- | ---\n",
    "P1|10|6|8|12|4\n",
    "P2|8|9|6|4|8\n",
    "P3|6|9|4|7|7\n",
    "P4|9|4|9|8|7\n",
    "P5|12|6|11|8|8\n",
    "P6|7|3|5|9|5\n",
    "\n",
    "Selanjutnya, toko bahan kue yang menjual bahan-bahan tersebut hanya tersedia 3 buah, yaitu T1,T2, dan T3. Tabel di bawah ini menunjukkan harga bahan yang dijual di tiap toko.\n",
    "\n",
    "Harga Jual Unit|T1|T2|T3\n",
    "--- | --- | --- | ---\n",
    "B1|Rp. 2.500|Rp. 2.350|Rp. 2.600\n",
    "B2|Rp. 1.750|Rp. 1.650|Rp. 1.650\n",
    "B3|Rp. 3.150|Rp. 3.250|Rp. 3.225\n",
    "B4|Rp. 2.800|Rp. 2.650|Rp. 2.750\n",
    "B5|Rp. 4.100|Rp. 4.150|Rp. 4.100\n",
    "\n",
    "Dengan menggunakan NumPy, tentukan toko mana yang harus dipilih oleh tiap orang tersebut supaya mendapatkan total harga paling murah"
   ]
  },
  {
   "cell_type": "markdown",
   "id": "2c86c8cf",
   "metadata": {
    "id": "2c86c8cf"
   },
   "source": [
    "### Solusi"
   ]
  },
  {
   "cell_type": "code",
   "execution_count": 53,
   "id": "05a95c32",
   "metadata": {},
   "outputs": [],
   "source": [
    "kebutuhan = np.array([[10,6,8,12,4],[8,9,6,4,8],[6,9,4,7,7],[9,4,9,8,7],[12,6,11,8,8],[7,3,5,9,5]])\n",
    "harga = np.array([[2500,2350,2600],[1750,1650,1650],[3150,3250,3225],[2800,2650,2750],[4100,4150,4100]])"
   ]
  },
  {
   "cell_type": "code",
   "execution_count": 54,
   "id": "eea5710e",
   "metadata": {
    "id": "eea5710e"
   },
   "outputs": [
    {
     "name": "stdout",
     "output_type": "stream",
     "text": [
      "+-----------+----+----+----+----+----+\n",
      "| Kebutuhan | B1 | B2 | B3 | B4 | B5 |\n",
      "+-----------+----+----+----+----+----+\n",
      "|     P1    | 10 | 6  | 8  | 12 | 4  |\n",
      "|     P2    | 8  | 9  | 6  | 4  | 8  |\n",
      "|     P3    | 6  | 9  | 4  | 7  | 7  |\n",
      "|     P4    | 9  | 4  | 9  | 8  | 7  |\n",
      "|     P5    | 12 | 6  | 11 | 8  | 8  |\n",
      "|     P6    | 7  | 3  | 5  | 9  | 5  |\n",
      "+-----------+----+----+----+----+----+\n"
     ]
    }
   ],
   "source": [
    "\n",
    "x = PrettyTable()\n",
    "x.add_column('Kebutuhan',[f\"P{i+1}\" for i in range(len(kebutuhan))])\n",
    "for i in range(len(kebutuhan[0])):\n",
    "    x.add_column(f'B{i+1}',[data[i] for data in kebutuhan])\n",
    "print(x)"
   ]
  },
  {
   "cell_type": "code",
   "execution_count": 55,
   "id": "05ab9f97",
   "metadata": {},
   "outputs": [
    {
     "name": "stdout",
     "output_type": "stream",
     "text": [
      "+-----------------+------+------+------+\n",
      "| harga jual unit |  T1  |  T2  |  T3  |\n",
      "+-----------------+------+------+------+\n",
      "|        B1       | 2500 | 2350 | 2600 |\n",
      "|        B2       | 1750 | 1650 | 1650 |\n",
      "|        B3       | 3150 | 3250 | 3225 |\n",
      "|        B4       | 2800 | 2650 | 2750 |\n",
      "|        B5       | 4100 | 4150 | 4100 |\n",
      "+-----------------+------+------+------+\n"
     ]
    }
   ],
   "source": [
    "\n",
    "x = PrettyTable()\n",
    "x.add_column('harga jual unit',[f\"B{i+1}\" for i in range(len(harga))])\n",
    "for i in range(len(harga[0])):\n",
    "    x.add_column(f\"T{i+1}\",[data[i] for data in harga])\n",
    "print(x)"
   ]
  },
  {
   "cell_type": "code",
   "execution_count": 60,
   "id": "e7222dc9",
   "metadata": {},
   "outputs": [],
   "source": [
    "hargaKebutuhan = np.zeros((len(kebutuhan),len(harga[0])))\n",
    "\n",
    "for i in range(len(hargaKebutuhan)):\n",
    "    for j in range(len(hargaKebutuhan[i])):\n",
    "        hargaKebutuhan[i][j] = np.sum([i[j] for i in harga] * kebutuhan[i])\n",
    "\n",
    "rekomendasi = np.array([np.argmin(i) for i in hargaKebutuhan])"
   ]
  },
  {
   "cell_type": "code",
   "execution_count": 59,
   "id": "585a0f92",
   "metadata": {},
   "outputs": [
    {
     "name": "stdout",
     "output_type": "stream",
     "text": [
      "+-----------+------------------+\n",
      "| kebutuhan | Rekomendasi Toko |\n",
      "+-----------+------------------+\n",
      "|     P1    |        T2        |\n",
      "|     P2    |        T2        |\n",
      "|     P3    |        T2        |\n",
      "|     P4    |        T2        |\n",
      "|     P5    |        T2        |\n",
      "|     P6    |        T2        |\n",
      "+-----------+------------------+\n"
     ]
    }
   ],
   "source": [
    "x = PrettyTable()\n",
    "x.add_column('kebutuhan',[f\"P{i+1}\" for i in range(len(rekomendasi))])\n",
    "x.add_column('Rekomendasi Toko',[f\"T{i+1}\" for i in rekomendasi])\n",
    "print(x)"
   ]
  }
 ],
 "metadata": {
  "colab": {
   "provenance": []
  },
  "kernelspec": {
   "display_name": "Python 3 (ipykernel)",
   "language": "python",
   "name": "python3"
  },
  "language_info": {
   "codemirror_mode": {
    "name": "ipython",
    "version": 3
   },
   "file_extension": ".py",
   "mimetype": "text/x-python",
   "name": "python",
   "nbconvert_exporter": "python",
   "pygments_lexer": "ipython3",
   "version": "3.11.4"
  }
 },
 "nbformat": 4,
 "nbformat_minor": 5
}
