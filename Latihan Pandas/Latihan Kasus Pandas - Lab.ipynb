{
 "cells": [
  {
   "cell_type": "markdown",
   "id": "d4638a45",
   "metadata": {},
   "source": [
    "Soal 1\n",
    "--\n",
    "\n",
    "Berdasarkan kasus pada file **Sample - Superstore.xls**, hitunglah banyaknya transaksi yang terjadi di masing-masing negara (Kanada dan Amerika Serikat) menggunakan program python. untuk mengetahui suatu transaksi terjadi di negara mana dapat dilihat dari dua digit karakter terdepan di **ORDER ID**.\n",
    "\n",
    "Misalnya ada transaksi dengan ORDER ID CA-2016-152156 maka transaksi tersebut terjadi di negara Kanada (Prefiks : CA). Sedangkan untuk transaksi yang terjadi di Amerika Serikat dapat diidentifikasi dari prefiks ORDER ID nya US, Misalnya US-2015-108966."
   ]
  },
  {
   "cell_type": "markdown",
   "id": "5105b129",
   "metadata": {},
   "source": [
    "### Solusi"
   ]
  },
  {
   "cell_type": "code",
   "execution_count": 1,
   "id": "f32d3748",
   "metadata": {},
   "outputs": [],
   "source": [
    "import pandas as pd"
   ]
  },
  {
   "cell_type": "code",
   "execution_count": 9,
   "metadata": {},
   "outputs": [],
   "source": [
    "df = pd.read_excel('Sample-Superstore.xlsx')"
   ]
  },
  {
   "cell_type": "markdown",
   "id": "86c51bf7",
   "metadata": {},
   "source": [
    "Soal 2\n",
    "--\n",
    "\n",
    "Berdasarkan data transaksi yang ada, buatlah program Python untuk membuat tabel rekap banyaknya transaksi per tahun pada setiap negara dimana terjadi transaksi. Adapun tampilan tabelnya adalah sebagai berikut :\n",
    "\n",
    "Negara|2014|2015|2016|2017\n",
    "--- | --- | --- | --- | --- \n",
    "Amerika Serikat|xxx|xxx|xxx|xxx\n",
    "Kanada|xxx|xxx|xxx|xxx\n"
   ]
  },
  {
   "cell_type": "markdown",
   "id": "2c86c8cf",
   "metadata": {},
   "source": [
    "### Solusi"
   ]
  },
  {
   "cell_type": "code",
   "execution_count": 73,
   "id": "eea5710e",
   "metadata": {},
   "outputs": [
    {
     "data": {
      "text/html": [
       "<div>\n",
       "<style scoped>\n",
       "    .dataframe tbody tr th:only-of-type {\n",
       "        vertical-align: middle;\n",
       "    }\n",
       "\n",
       "    .dataframe tbody tr th {\n",
       "        vertical-align: top;\n",
       "    }\n",
       "\n",
       "    .dataframe thead th {\n",
       "        text-align: right;\n",
       "    }\n",
       "</style>\n",
       "<table border=\"1\" class=\"dataframe\">\n",
       "  <thead>\n",
       "    <tr style=\"text-align: right;\">\n",
       "      <th>Year</th>\n",
       "      <th>Year</th>\n",
       "      <th>2014</th>\n",
       "      <th>2015</th>\n",
       "      <th>2016</th>\n",
       "      <th>2017</th>\n",
       "    </tr>\n",
       "  </thead>\n",
       "  <tbody>\n",
       "    <tr>\n",
       "      <th>0</th>\n",
       "      <td>CA</td>\n",
       "      <td>1,672</td>\n",
       "      <td>1,783</td>\n",
       "      <td>2,121</td>\n",
       "      <td>2,732</td>\n",
       "    </tr>\n",
       "    <tr>\n",
       "      <th>1</th>\n",
       "      <td>US</td>\n",
       "      <td>321</td>\n",
       "      <td>319</td>\n",
       "      <td>466</td>\n",
       "      <td>580</td>\n",
       "    </tr>\n",
       "  </tbody>\n",
       "</table>\n",
       "</div>"
      ],
      "text/plain": [
       "Year Year  2014  2015  2016  2017\n",
       "0      CA 1,672 1,783 2,121 2,732\n",
       "1      US   321   319   466   580"
      ]
     },
     "metadata": {},
     "output_type": "display_data"
    }
   ],
   "source": [
    "import pandas as pd\n",
    "\n",
    "# Membuat DataFrame dari data Anda (asumsi data telah dimuat sebelumnya)\n",
    "# Jika belum dimuat, pastikan untuk memuatnya terlebih dahulu.\n",
    "\n",
    "# Langkah 1: Ekstrak tahun dari Order Date\n",
    "df['Year'] = pd.to_datetime(df['Order Date']).dt.year\n",
    "\n",
    "# Langkah 2: Filter Data untuk Tahun 2014-2017 dan Order ID yang diawali dengan \"US\" atau \"CA\"\n",
    "filtered_df = df[(df['Year'] >= 2014) & (df['Year'] <= 2017) & df['Order ID'].str[:2].isin(['US', 'CA'])]\n",
    "\n",
    "# Langkah 3: Hitung Jumlah Pesanan per Tahun\n",
    "recap_table = filtered_df.groupby(['Order ID', 'Year'])['Year'].count().reset_index(name='Total Transaksi')\n",
    "\n",
    "# Menggunakan pivot_table untuk mendapatkan tabel rekapitulasi seperti yang Anda inginkan\n",
    "pivot_table = recap_table.pivot_table(index='Order ID', columns='Year', values='Total Transaksi', fill_value=0)\n",
    "\n",
    "# Mengatur nama kolom\n",
    "pivot_table.columns = pivot_table.columns.astype(str)\n",
    "\n",
    "# Menghapus index untuk mempermudah perubahan\n",
    "pivot_table.reset_index(inplace=True)\n",
    "\n",
    "# Mengganti Order ID dengan hanya dua huruf pertama\n",
    "pivot_table['Order ID'] = pivot_table['Order ID'].str[:2]\n",
    "\n",
    "# Langkah 4: Hitung Jumlah Pesanan per Tahun untuk setiap Order ID (CA dan US)\n",
    "result = pivot_table.groupby('Order ID').sum()\n",
    "\n",
    "# Mengatur ulang indeks agar sesuai dengan tampilan yang Anda inginkan\n",
    "result.reset_index(inplace=True)\n",
    "\n",
    "# Menyesuaikan tampilan kolom\n",
    "result.rename(columns={'Order ID': 'Year'}, inplace=True)\n",
    "pd.options.display.float_format = '{:,.0f}'.format\n",
    "\n",
    "display(result)\n"
   ]
  }
 ],
 "metadata": {
  "kernelspec": {
   "display_name": "Python 3 (ipykernel)",
   "language": "python",
   "name": "python3"
  },
  "language_info": {
   "codemirror_mode": {
    "name": "ipython",
    "version": 3
   },
   "file_extension": ".py",
   "mimetype": "text/x-python",
   "name": "python",
   "nbconvert_exporter": "python",
   "pygments_lexer": "ipython3",
   "version": "3.11.4"
  }
 },
 "nbformat": 4,
 "nbformat_minor": 5
}
